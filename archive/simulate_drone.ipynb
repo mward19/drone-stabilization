{
 "cells": [
  {
   "cell_type": "code",
   "execution_count": 1,
   "metadata": {},
   "outputs": [],
   "source": [
    "import numpy as np\n",
    "from scipy.integrate import solve_ivp\n",
    "from matplotlib import pyplot as plt\n",
    "import itertools\n",
    "from tqdm.notebook import tqdm\n",
    "\n",
    "from DroneUtils import *"
   ]
  },
  {
   "cell_type": "markdown",
   "metadata": {},
   "source": [
    "In `DroneUtils.py`, we call the 12-dimensional state vector $\\boldsymbol{\\sigma}$ `state`, and the 12-dimensional costate vector $\\mathbf{p}$ `costate`.\n",
    "\n",
    "To set this up in `solve_bvp`, we will stack the state and costate into a 24 dimensional vector $\\mathbf{y}$.\n",
    "\n",
    "In summary,\n",
    "\n",
    "$$\n",
    "\\begin{aligned}\n",
    "    \\mathbf{y} &= \\begin{pmatrix} \\boldsymbol{\\sigma} \\\\ \\mathbf{p} \\end{pmatrix}, \\\\\n",
    "    \\boldsymbol{\\sigma} &= \\begin{pmatrix} \\mathbf{s} \\\\ \\dot{\\mathbf{s}} \\end{pmatrix}, \\\\\n",
    "    \\mathbf{s} &= \\begin{pmatrix} x \\\\ y \\\\ z \\\\ \\phi \\\\ \\theta \\\\ \\psi \\end{pmatrix}, \\\\\n",
    "    \\mathbf{p} &= \\begin{pmatrix} p_1 \\\\ \\vdots \\\\ p_{12} \\end{pmatrix}\n",
    "\\end{aligned}\n",
    "$$"
   ]
  },
  {
   "cell_type": "markdown",
   "metadata": {},
   "source": [
    "This is a boundary value problem, with the following boundary conditions:\n",
    "\n",
    "$$\n",
    "\\boldsymbol{\\sigma}(0) = \\left( x_0, y_0, z_0, \\phi_0, \\theta_0, \\psi_0, \\dot{x}_0, \\dot{y}_0, \\dot{z}_0, \\dot{\\phi}_0, \\dot{\\theta}_0, \\dot{\\psi}_0 \\right)\n",
    "$$\n",
    "\n",
    "$$\n",
    "\\boldsymbol{\\sigma}(t_f) = \\mathbf{0}\n",
    "$$"
   ]
  },
  {
   "cell_type": "code",
   "execution_count": 4,
   "metadata": {},
   "outputs": [
    {
     "ename": "TypeError",
     "evalue": "object of type 'float' has no len()",
     "output_type": "error",
     "traceback": [
      "\u001b[0;31m---------------------------------------------------------------------------\u001b[0m",
      "\u001b[0;31mTypeError\u001b[0m                                 Traceback (most recent call last)",
      "Cell \u001b[0;32mIn[4], line 58\u001b[0m\n\u001b[1;32m     52\u001b[0m sigma_guess \u001b[38;5;241m=\u001b[39m np\u001b[38;5;241m.\u001b[39mones((\u001b[38;5;241m12\u001b[39m, timesteps))\n\u001b[1;32m     53\u001b[0m y_guess \u001b[38;5;241m=\u001b[39m np\u001b[38;5;241m.\u001b[39mvstack([\n\u001b[1;32m     54\u001b[0m     sigma_guess,\n\u001b[1;32m     55\u001b[0m     \u001b[38;5;241m0.1\u001b[39m \u001b[38;5;241m*\u001b[39m np\u001b[38;5;241m.\u001b[39mones((\u001b[38;5;241m12\u001b[39m, timesteps))\n\u001b[1;32m     56\u001b[0m ])\n\u001b[0;32m---> 58\u001b[0m sol \u001b[38;5;241m=\u001b[39m \u001b[43msolve_ivp\u001b[49m\u001b[43m(\u001b[49m\n\u001b[1;32m     59\u001b[0m \u001b[43m    \u001b[49m\u001b[43mode\u001b[49m\u001b[43m,\u001b[49m\n\u001b[1;32m     60\u001b[0m \u001b[43m    \u001b[49m\u001b[43m(\u001b[49m\u001b[38;5;241;43m0\u001b[39;49m\u001b[43m,\u001b[49m\u001b[43m \u001b[49m\u001b[38;5;241;43m10\u001b[39;49m\u001b[43m)\u001b[49m\u001b[43m,\u001b[49m\n\u001b[1;32m     61\u001b[0m \u001b[43m    \u001b[49m\u001b[43msigma_init\u001b[49m\n\u001b[1;32m     62\u001b[0m \u001b[43m)\u001b[49m\n",
      "File \u001b[0;32m~/Documents/acme labs/py_acme/lib/python3.12/site-packages/scipy/integrate/_ivp/ivp.py:621\u001b[0m, in \u001b[0;36msolve_ivp\u001b[0;34m(fun, t_span, y0, method, t_eval, dense_output, events, vectorized, args, **options)\u001b[0m\n\u001b[1;32m    618\u001b[0m \u001b[38;5;28;01mif\u001b[39;00m method \u001b[38;5;129;01min\u001b[39;00m METHODS:\n\u001b[1;32m    619\u001b[0m     method \u001b[38;5;241m=\u001b[39m METHODS[method]\n\u001b[0;32m--> 621\u001b[0m solver \u001b[38;5;241m=\u001b[39m \u001b[43mmethod\u001b[49m\u001b[43m(\u001b[49m\u001b[43mfun\u001b[49m\u001b[43m,\u001b[49m\u001b[43m \u001b[49m\u001b[43mt0\u001b[49m\u001b[43m,\u001b[49m\u001b[43m \u001b[49m\u001b[43my0\u001b[49m\u001b[43m,\u001b[49m\u001b[43m \u001b[49m\u001b[43mtf\u001b[49m\u001b[43m,\u001b[49m\u001b[43m \u001b[49m\u001b[43mvectorized\u001b[49m\u001b[38;5;241;43m=\u001b[39;49m\u001b[43mvectorized\u001b[49m\u001b[43m,\u001b[49m\u001b[43m \u001b[49m\u001b[38;5;241;43m*\u001b[39;49m\u001b[38;5;241;43m*\u001b[39;49m\u001b[43moptions\u001b[49m\u001b[43m)\u001b[49m\n\u001b[1;32m    623\u001b[0m \u001b[38;5;28;01mif\u001b[39;00m t_eval \u001b[38;5;129;01mis\u001b[39;00m \u001b[38;5;28;01mNone\u001b[39;00m:\n\u001b[1;32m    624\u001b[0m     ts \u001b[38;5;241m=\u001b[39m [t0]\n",
      "File \u001b[0;32m~/Documents/acme labs/py_acme/lib/python3.12/site-packages/scipy/integrate/_ivp/rk.py:94\u001b[0m, in \u001b[0;36mRungeKutta.__init__\u001b[0;34m(self, fun, t0, y0, t_bound, max_step, rtol, atol, vectorized, first_step, **extraneous)\u001b[0m\n\u001b[1;32m     92\u001b[0m \u001b[38;5;28mself\u001b[39m\u001b[38;5;241m.\u001b[39mmax_step \u001b[38;5;241m=\u001b[39m validate_max_step(max_step)\n\u001b[1;32m     93\u001b[0m \u001b[38;5;28mself\u001b[39m\u001b[38;5;241m.\u001b[39mrtol, \u001b[38;5;28mself\u001b[39m\u001b[38;5;241m.\u001b[39matol \u001b[38;5;241m=\u001b[39m validate_tol(rtol, atol, \u001b[38;5;28mself\u001b[39m\u001b[38;5;241m.\u001b[39mn)\n\u001b[0;32m---> 94\u001b[0m \u001b[38;5;28mself\u001b[39m\u001b[38;5;241m.\u001b[39mf \u001b[38;5;241m=\u001b[39m \u001b[38;5;28;43mself\u001b[39;49m\u001b[38;5;241;43m.\u001b[39;49m\u001b[43mfun\u001b[49m\u001b[43m(\u001b[49m\u001b[38;5;28;43mself\u001b[39;49m\u001b[38;5;241;43m.\u001b[39;49m\u001b[43mt\u001b[49m\u001b[43m,\u001b[49m\u001b[43m \u001b[49m\u001b[38;5;28;43mself\u001b[39;49m\u001b[38;5;241;43m.\u001b[39;49m\u001b[43my\u001b[49m\u001b[43m)\u001b[49m\n\u001b[1;32m     95\u001b[0m \u001b[38;5;28;01mif\u001b[39;00m first_step \u001b[38;5;129;01mis\u001b[39;00m \u001b[38;5;28;01mNone\u001b[39;00m:\n\u001b[1;32m     96\u001b[0m     \u001b[38;5;28mself\u001b[39m\u001b[38;5;241m.\u001b[39mh_abs \u001b[38;5;241m=\u001b[39m select_initial_step(\n\u001b[1;32m     97\u001b[0m         \u001b[38;5;28mself\u001b[39m\u001b[38;5;241m.\u001b[39mfun, \u001b[38;5;28mself\u001b[39m\u001b[38;5;241m.\u001b[39mt, \u001b[38;5;28mself\u001b[39m\u001b[38;5;241m.\u001b[39my, t_bound, max_step, \u001b[38;5;28mself\u001b[39m\u001b[38;5;241m.\u001b[39mf, \u001b[38;5;28mself\u001b[39m\u001b[38;5;241m.\u001b[39mdirection,\n\u001b[1;32m     98\u001b[0m         \u001b[38;5;28mself\u001b[39m\u001b[38;5;241m.\u001b[39merror_estimator_order, \u001b[38;5;28mself\u001b[39m\u001b[38;5;241m.\u001b[39mrtol, \u001b[38;5;28mself\u001b[39m\u001b[38;5;241m.\u001b[39matol)\n",
      "File \u001b[0;32m~/Documents/acme labs/py_acme/lib/python3.12/site-packages/scipy/integrate/_ivp/base.py:154\u001b[0m, in \u001b[0;36mOdeSolver.__init__.<locals>.fun\u001b[0;34m(t, y)\u001b[0m\n\u001b[1;32m    152\u001b[0m \u001b[38;5;28;01mdef\u001b[39;00m \u001b[38;5;21mfun\u001b[39m(t, y):\n\u001b[1;32m    153\u001b[0m     \u001b[38;5;28mself\u001b[39m\u001b[38;5;241m.\u001b[39mnfev \u001b[38;5;241m+\u001b[39m\u001b[38;5;241m=\u001b[39m \u001b[38;5;241m1\u001b[39m\n\u001b[0;32m--> 154\u001b[0m     \u001b[38;5;28;01mreturn\u001b[39;00m \u001b[38;5;28;43mself\u001b[39;49m\u001b[38;5;241;43m.\u001b[39;49m\u001b[43mfun_single\u001b[49m\u001b[43m(\u001b[49m\u001b[43mt\u001b[49m\u001b[43m,\u001b[49m\u001b[43m \u001b[49m\u001b[43my\u001b[49m\u001b[43m)\u001b[49m\n",
      "File \u001b[0;32m~/Documents/acme labs/py_acme/lib/python3.12/site-packages/scipy/integrate/_ivp/base.py:23\u001b[0m, in \u001b[0;36mcheck_arguments.<locals>.fun_wrapped\u001b[0;34m(t, y)\u001b[0m\n\u001b[1;32m     22\u001b[0m \u001b[38;5;28;01mdef\u001b[39;00m \u001b[38;5;21mfun_wrapped\u001b[39m(t, y):\n\u001b[0;32m---> 23\u001b[0m     \u001b[38;5;28;01mreturn\u001b[39;00m np\u001b[38;5;241m.\u001b[39masarray(\u001b[43mfun\u001b[49m\u001b[43m(\u001b[49m\u001b[43mt\u001b[49m\u001b[43m,\u001b[49m\u001b[43m \u001b[49m\u001b[43my\u001b[49m\u001b[43m)\u001b[49m, dtype\u001b[38;5;241m=\u001b[39mdtype)\n",
      "Cell \u001b[0;32mIn[4], line 27\u001b[0m, in \u001b[0;36mode\u001b[0;34m(time, y)\u001b[0m\n\u001b[1;32m     22\u001b[0m state \u001b[38;5;241m=\u001b[39m y[:\u001b[38;5;241m12\u001b[39m]   \u001b[38;5;66;03m# First half is state evolution\u001b[39;00m\n\u001b[1;32m     23\u001b[0m costate \u001b[38;5;241m=\u001b[39m y[\u001b[38;5;241m12\u001b[39m:] \u001b[38;5;66;03m# Second half is costate evolution\u001b[39;00m\n\u001b[1;32m     25\u001b[0m state_prime_matrix \u001b[38;5;241m=\u001b[39m np\u001b[38;5;241m.\u001b[39marray([\n\u001b[1;32m     26\u001b[0m     state_prime(state[:, t], costate[:, t], lambda_)\n\u001b[0;32m---> 27\u001b[0m     \u001b[38;5;28;01mfor\u001b[39;00m t \u001b[38;5;129;01min\u001b[39;00m \u001b[38;5;28mrange\u001b[39m(\u001b[38;5;28;43mlen\u001b[39;49m\u001b[43m(\u001b[49m\u001b[43mtime\u001b[49m\u001b[43m)\u001b[49m)\n\u001b[1;32m     28\u001b[0m ])\u001b[38;5;241m.\u001b[39mT\n\u001b[1;32m     30\u001b[0m costate_prime_matrix \u001b[38;5;241m=\u001b[39m np\u001b[38;5;241m.\u001b[39marray([\n\u001b[1;32m     31\u001b[0m     costate_prime(state[:, t], costate[:, t], alpha, lambda_)\n\u001b[1;32m     32\u001b[0m     \u001b[38;5;28;01mfor\u001b[39;00m t \u001b[38;5;129;01min\u001b[39;00m \u001b[38;5;28mrange\u001b[39m(\u001b[38;5;28mlen\u001b[39m(time))\n\u001b[1;32m     33\u001b[0m ])\u001b[38;5;241m.\u001b[39mT\n\u001b[1;32m     35\u001b[0m result \u001b[38;5;241m=\u001b[39m np\u001b[38;5;241m.\u001b[39mvstack([\n\u001b[1;32m     36\u001b[0m     state_prime_matrix,\n\u001b[1;32m     37\u001b[0m     costate_prime_matrix\n\u001b[1;32m     38\u001b[0m ])\n",
      "\u001b[0;31mTypeError\u001b[0m: object of type 'float' has no len()"
     ]
    }
   ],
   "source": [
    "lambda_ = 1\n",
    "alpha = 1\n",
    "\n",
    "sigma_init = np.array([\n",
    "    1,       # Initial x\n",
    "    2,       # Initial y \n",
    "    3,       # Initial z\n",
    "    0, # Initial phi\n",
    "    0, # Initial theta\n",
    "    0,       # Initial psi\n",
    "    0,       # Initial x velocity\n",
    "    0,       # Initial y velocity\n",
    "    0,       # Initial z velocity\n",
    "    0,       # Initial phi velocity\n",
    "    0,       # Initial theta velocity\n",
    "    0        # Initial psi velocity\n",
    "])\n",
    "\n",
    "sigma_final = np.zeros_like(sigma_init)\n",
    "\n",
    "def ode(time, y):\n",
    "    state = y[:12]   # First half is state evolution\n",
    "    costate = y[12:] # Second half is costate evolution\n",
    "\n",
    "    state_prime_matrix = np.array([\n",
    "        state_prime(state[:, t], costate[:, t], lambda_)\n",
    "        for t in range(len(time))\n",
    "    ]).T\n",
    "\n",
    "    costate_prime_matrix = np.array([\n",
    "        costate_prime(state[:, t], costate[:, t], alpha, lambda_)\n",
    "        for t in range(len(time))\n",
    "    ]).T\n",
    "\n",
    "    result = np.vstack([\n",
    "        state_prime_matrix,\n",
    "        costate_prime_matrix\n",
    "    ])\n",
    "    return result\n",
    "\n",
    "def bc(y_init, y_final):\n",
    "    state_init = y_init[:12] \n",
    "    costate_final = y_final[12:] \n",
    "    return np.hstack([\n",
    "        state_init - sigma_init,\n",
    "        costate_final\n",
    "    ])\n",
    "\n",
    "timesteps = 30\n",
    "t_range = np.linspace(0, 10, timesteps)\n",
    "#sigma_guess = np.linspace(sigma_init, sigma_final, timesteps).T\n",
    "sigma_guess = np.ones((12, timesteps))\n",
    "y_guess = np.vstack([\n",
    "    sigma_guess,\n",
    "    0.1 * np.ones((12, timesteps))\n",
    "])\n",
    "\n",
    "sol = solve_ivp(\n",
    "    ode,\n",
    "    (0, 10),\n",
    "    sigma_init\n",
    ")\n"
   ]
  },
  {
   "cell_type": "code",
   "execution_count": 3,
   "metadata": {},
   "outputs": [
    {
     "data": {
      "text/plain": [
       "0"
      ]
     },
     "execution_count": 3,
     "metadata": {},
     "output_type": "execute_result"
    }
   ],
   "source": [
    "sol.status"
   ]
  },
  {
   "cell_type": "code",
   "execution_count": 4,
   "metadata": {},
   "outputs": [
    {
     "data": {
      "text/plain": [
       "[<matplotlib.lines.Line2D at 0x7f398fef1970>]"
      ]
     },
     "execution_count": 4,
     "metadata": {},
     "output_type": "execute_result"
    },
    {
     "data": {
      "image/png": "[encoded data removed]",
      "text/plain": [
       "<Figure size 640x480 with 1 Axes>"
      ]
     },
     "metadata": {},
     "output_type": "display_data"
    }
   ],
   "source": [
    "plt.plot(sol.y[2])"
   ]
  },
  {
   "cell_type": "code",
   "execution_count": 5,
   "metadata": {},
   "outputs": [
    {
     "data": {
      "text/plain": [
       "array([1.        , 1.        , 1.        , 1.        , 1.        ,\n",
       "       1.        , 1.        , 1.        , 1.        , 1.        ,\n",
       "       1.        , 1.        , 1.        , 1.        , 1.        ,\n",
       "       1.        , 1.        , 1.        , 1.        , 0.99999999,\n",
       "       0.99999999, 0.99999997, 0.99999994, 0.99999987, 0.99999974,\n",
       "       0.99999948, 0.99999899, 0.99999809, 0.99999646, 0.99999358])"
      ]
     },
     "execution_count": 5,
     "metadata": {},
     "output_type": "execute_result"
    }
   ],
   "source": [
    "sol.y[0]"
   ]
  },
  {
   "cell_type": "code",
   "execution_count": 6,
   "metadata": {},
   "outputs": [
    {
     "data": {
      "text/plain": [
       "0.9999935818886918"
      ]
     },
     "execution_count": 6,
     "metadata": {},
     "output_type": "execute_result"
    }
   ],
   "source": [
    "sol.y[0][-1]"
   ]
  },
  {
   "cell_type": "code",
   "execution_count": null,
   "metadata": {},
   "outputs": [],
   "source": []
  }
 ],
 "metadata": {
  "kernelspec": {
   "display_name": "py_acme",
   "language": "python",
   "name": "python3"
  },
  "language_info": {
   "codemirror_mode": {
    "name": "ipython",
    "version": 3
   },
   "file_extension": ".py",
   "mimetype": "text/x-python",
   "name": "python",
   "nbconvert_exporter": "python",
   "pygments_lexer": "ipython3",
   "version": "3.12.4"
  }
 },
 "nbformat": 4,
 "nbformat_minor": 2
}
