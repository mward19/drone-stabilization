{
 "cells": [
  {
   "cell_type": "code",
   "execution_count": 1,
   "metadata": {},
   "outputs": [],
   "source": [
    "import numpy as np\n",
    "from scipy.integrate import solve_bvp\n",
    "from matplotlib import pyplot as plt\n",
    "import itertools\n",
    "from tqdm.notebook import tqdm\n",
    "\n",
    "from DroneUtils import *"
   ]
  },
  {
   "cell_type": "markdown",
   "metadata": {},
   "source": [
    "In `DroneUtils.py`, we call the 12-dimensional state vector $\\boldsymbol{\\sigma}$ `state`, and the 12-dimensional costate vector $\\mathbf{p}$ `costate`.\n",
    "\n",
    "To set this up in `solve_bvp`, we will stack the state and costate into a 24 dimensional vector $\\mathbf{y}$.\n",
    "\n",
    "In summary,\n",
    "\n",
    "$$\n",
    "\\begin{aligned}\n",
    "    \\mathbf{y} &= \\begin{pmatrix} \\boldsymbol{\\sigma} \\\\ \\mathbf{p} \\end{pmatrix}, \\\\\n",
    "    \\boldsymbol{\\sigma} &= \\begin{pmatrix} \\mathbf{s} \\\\ \\dot{\\mathbf{s}} \\end{pmatrix}, \\\\\n",
    "    \\mathbf{s} &= \\begin{pmatrix} x \\\\ y \\\\ z \\\\ \\phi \\\\ \\theta \\\\ \\psi \\end{pmatrix}, \\\\\n",
    "    \\mathbf{p} &= \\begin{pmatrix} p_1 \\\\ \\vdots \\\\ p_{12} \\end{pmatrix}\n",
    "\\end{aligned}\n",
    "$$"
   ]
  },
  {
   "cell_type": "markdown",
   "metadata": {},
   "source": [
    "This is a boundary value problem, with the following boundary conditions:\n",
    "\n",
    "$$\n",
    "\\boldsymbol{\\sigma}(0) = \\left( x_0, y_0, z_0, \\phi_0, \\theta_0, \\psi_0, \\dot{x}_0, \\dot{y}_0, \\dot{z}_0, \\dot{\\phi}_0, \\dot{\\theta}_0, \\dot{\\psi}_0 \\right)\n",
    "$$\n",
    "\n",
    "$$\n",
    "\\boldsymbol{\\sigma}(t_f) = \\mathbf{0}\n",
    "$$"
   ]
  },
  {
   "cell_type": "code",
   "execution_count": 3,
   "metadata": {},
   "outputs": [
    {
     "name": "stderr",
     "output_type": "stream",
     "text": [
      "Processing lambda: 1, alpha: 1:   0%|          | 0/16 [00:00<?, ?it/s]"
     ]
    },
    {
     "name": "stderr",
     "output_type": "stream",
     "text": [
      "Processing lambda: 1, alpha: 10:   6%|▋         | 1/16 [00:01<00:24,  1.67s/it]"
     ]
    }
   ],
   "source": [
    "from tqdm import tqdm\n",
    "import itertools\n",
    "\n",
    "lambda_range = [1, 10, 100, 1000]\n",
    "alpha_range = [1, 10, 100, 1000]\n",
    "\n",
    "params = list(itertools.product(lambda_range, alpha_range))\n",
    "pbar = tqdm(params)\n",
    "\n",
    "for lambda_, alpha in pbar:\n",
    "    pbar.set_description(f\"Processing lambda: {lambda_}, alpha: {alpha}\")\n",
    "\n",
    "    sigma_init = np.array([\n",
    "        1,       # Initial x\n",
    "        3,       # Initial y \n",
    "        2,       # Initial z\n",
    "        np.pi/8, # Initial phi\n",
    "        np.pi/7, # Initial theta\n",
    "        np.pi/6, # Initial psi\n",
    "        0,       # Initial x velocity\n",
    "        0,       # Initial y velocity\n",
    "        0,       # Initial z velocity\n",
    "        0,       # Initial phi velocity\n",
    "        0,       # Initial theta velocity\n",
    "        0        # Initial psi velocity\n",
    "    ])\n",
    "\n",
    "    sigma_final = np.zeros_like(sigma_init)\n",
    "\n",
    "    count = 0\n",
    "\n",
    "    def ode(time, y):\n",
    "        global count \n",
    "        count += 1\n",
    "        state = y[:12]   # First half is state evolution\n",
    "        costate = y[12:] # Second half is costate evolution\n",
    "\n",
    "        state_prime_matrix = np.array([\n",
    "            state_prime(state[:, t], costate[:, t], lambda_)\n",
    "            for t in range(len(time))\n",
    "        ]).T\n",
    "\n",
    "        costate_prime_matrix = np.array([\n",
    "            costate_prime(state[:, t], costate[:, t], alpha, lambda_)\n",
    "            for t in range(len(time))\n",
    "        ]).T\n",
    "\n",
    "        result = np.vstack([\n",
    "            state_prime_matrix,\n",
    "            costate_prime_matrix\n",
    "        ])\n",
    "        return result\n",
    "\n",
    "    def bc(y_init, y_final):\n",
    "        state_init = y_init[:12] \n",
    "        state_final = y_final[:12] \n",
    "        return np.hstack([\n",
    "            state_init - sigma_init,\n",
    "            state_final - sigma_final\n",
    "        ])\n",
    "\n",
    "    timesteps = 10\n",
    "    t_range = np.linspace(0, 1, timesteps)\n",
    "    sigma_guess = np.linspace(sigma_init, sigma_final, timesteps).T\n",
    "    y_guess = np.vstack([\n",
    "        sigma_guess,\n",
    "        0.1 * np.ones((12, timesteps))\n",
    "    ])\n",
    "\n",
    "    sol = solve_bvp(\n",
    "        ode,\n",
    "        bc,\n",
    "        t_range,\n",
    "        y_guess\n",
    "    )\n",
    "\n",
    "    if sol.status != 2:\n",
    "        print('success')\n",
    "        print(lambda_)\n",
    "        print(alpha)\n",
    "        print()\n",
    "        break\n"
   ]
  },
  {
   "cell_type": "code",
   "execution_count": 5,
   "metadata": {},
   "outputs": [
    {
     "data": {
      "text/plain": [
       "2"
      ]
     },
     "execution_count": 5,
     "metadata": {},
     "output_type": "execute_result"
    }
   ],
   "source": [
    "sol.status"
   ]
  },
  {
   "cell_type": "code",
   "execution_count": 6,
   "metadata": {},
   "outputs": [
    {
     "data": {
      "text/plain": [
       "55"
      ]
     },
     "execution_count": 6,
     "metadata": {},
     "output_type": "execute_result"
    }
   ],
   "source": [
    "count"
   ]
  },
  {
   "cell_type": "code",
   "execution_count": 7,
   "metadata": {},
   "outputs": [
    {
     "data": {
      "image/png": "[encoded data removed]",
      "text/plain": [
       "<Figure size 640x480 with 1 Axes>"
      ]
     },
     "metadata": {},
     "output_type": "display_data"
    }
   ],
   "source": [
    "y_sol = sol.y\n",
    "\n",
    "plt.plot(y_sol[2])\n",
    "plt.show()"
   ]
  },
  {
   "cell_type": "code",
   "execution_count": null,
   "metadata": {},
   "outputs": [],
   "source": []
  }
 ],
 "metadata": {
  "kernelspec": {
   "display_name": "py_acme",
   "language": "python",
   "name": "python3"
  },
  "language_info": {
   "codemirror_mode": {
    "name": "ipython",
    "version": 3
   },
   "file_extension": ".py",
   "mimetype": "text/x-python",
   "name": "python",
   "nbconvert_exporter": "python",
   "pygments_lexer": "ipython3",
   "version": "3.12.4"
  }
 },
 "nbformat": 4,
 "nbformat_minor": 2
}
